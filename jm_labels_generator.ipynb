{
 "cells": [
  {
   "cell_type": "markdown",
   "metadata": {},
   "source": [
    "**Description**:\n",
    "\n",
    "This script compute automatically JM labels over all the grazing and rumination bouts of this dataset in a non-supervised way. It uses the Chew-Bite Intelligent Algorithm (CBIA) developed by Chelotti et al. (2018) to detect and classify JMs in term of chew ('c'), bite ('b') and chew-bite ('x') classes.\n",
    "\n",
    "This script perform the following steps:\n",
    "\n",
    "\n",
    "    (1) Convert the stereo MP3 file to mono WAV.\n",
    "\n",
    "    (2) The channel corresponding to the microphone facing inward the cow's head is used.\n",
    "\n",
    "    (3) It detect and classify automatically the JMs over the entire WAV file.\n",
    "\n",
    "    (4) Detected JMs not corresponding with a grazing or rumination bout are supressed.\n",
    "\n",
    "    (5) A post-processing is applied in the classified JM-labels:\n",
    "\n",
    "        (5.A) Modify the labels 'x' to 'cb'.\n",
    "\n",
    "        (5.B) re-label all classified JMs produced during rumination bouts as \"chew during rumination\" ('r'). This correct possible missclassification of JMs during rumination.\n",
    "\n",
    "-------------------------------------------------------------------------\n",
    "Author: Luciano Martinez Rau (Mid Sweden University / sinc(<i>i</i>)-CONICET)\n",
    "------------------------------------------------------------------------"
   ]
  },
  {
   "cell_type": "markdown",
   "metadata": {},
   "source": [
    "Specify the correct paths"
   ]
  },
  {
   "cell_type": "code",
   "execution_count": 1,
   "metadata": {},
   "outputs": [
    {
     "name": "stderr",
     "output_type": "stream",
     "text": [
      "[sudo] password for luciano: \n",
      "WARNING: apt does not have a stable CLI interface. Use with caution in scripts.\n",
      "\n"
     ]
    },
    {
     "name": "stdout",
     "output_type": "stream",
     "text": [
      "Reading package lists...\n",
      "Building dependency tree...\n",
      "Reading state information...\n",
      "ffmpeg is already the newest version (7:4.2.7-0ubuntu0.1).\n",
      "The following packages were automatically installed and are no longer required:\n",
      "  linux-headers-5.15.0-72-generic linux-hwe-5.15-headers-5.15.0-72\n",
      "  linux-image-5.15.0-72-generic linux-modules-5.15.0-72-generic\n",
      "  linux-modules-extra-5.15.0-72-generic\n",
      "Use 'sudo apt autoremove' to remove them.\n",
      "0 to upgrade, 0 to newly install, 0 to remove and 103 not to upgrade.\n"
     ]
    },
    {
     "data": {
      "text/plain": [
       "0"
      ]
     },
     "execution_count": 1,
     "metadata": {},
     "output_type": "execute_result"
    }
   ],
   "source": [
    "from pydub import AudioSegment\n",
    "import pandas as pd\n",
    "import bufar_algorithm\n",
    "import getpass\n",
    "import os\n",
    "import numpy as np\n",
    "\n",
    "password = getpass.getpass()\n",
    "command = \"sudo -S apt install ffmpeg\"\n",
    "os.system('echo %s | %s' % (password, command))"
   ]
  },
  {
   "cell_type": "code",
   "execution_count": 2,
   "metadata": {},
   "outputs": [],
   "source": [
    "if 'google.colab' in str(get_ipython()):\n",
    "    from google.colab import drive\n",
    "    drive.mount('/drive',force_remount=True)\n",
    "    # path to read the MP3 audio recordings\n",
    "    folderMP3 = \"/drive/My Drive/Colab Notebooks/DatabaseMichigan/data/audio/\"\n",
    "    # path to the MP3AudioInformation.xlsx file\n",
    "    tableMP3file = '/drive/My Drive/Colab Notebooks/DatabaseMichigan/data/MP3AudioInformation.xlsx'\n",
    "    # path to save the JM labels\n",
    "    folderJMlabel = \"/drive/My Drive/Colab Notebooks/DatabaseMichigan/data/labels_JMs/\"\n",
    "else:\n",
    "    # path to read the MP3 audio recordings\n",
    "    folderMP3 = \"/home/luciano/Music/\"\n",
    "    # path to the MP3AudioInformation.xlsx file\n",
    "    tableMP3file = 'data/MP3AudioInformation.xlsx'\n",
    "    # path to save the JM labels\n",
    "    folderJMlabel = \"data/labels_JMs/\""
   ]
  },
  {
   "cell_type": "markdown",
   "metadata": {},
   "source": [
    "Processing algorithm"
   ]
  },
  {
   "cell_type": "code",
   "execution_count": 3,
   "metadata": {},
   "outputs": [],
   "source": [
    "def save_label_files(*args):\n",
    "    mp3file=args[0]\n",
    "    #save files     \n",
    "    txt_two_marks = folderJMlabel + os.path.splitext(mp3file)[0] + \"_JM.txt\"\n",
    "    csv_two_marks = folderJMlabel + os.path.splitext(mp3file)[0] + \"_JM.csv\"\n",
    "    txt_one_mark = folderJMlabel + os.path.splitext(mp3file)[0] + \"_JM_onemark.txt\"\n",
    "    csv_one_mark = folderJMlabel + os.path.splitext(mp3file)[0] + \"_JM_onemark.csv\"\n",
    "    \n",
    "    if (len(args)==2):\n",
    "        filtered_JM=args[1]\n",
    "        first_two_columns = filtered_JM[:, :2].astype(float)\n",
    "        mean_values = np.mean(first_two_columns, axis=1)\n",
    "        filtered_JM_onemark = np.column_stack((mean_values, filtered_JM[:, 2]))\n",
    "        pd.DataFrame(filtered_JM).to_csv(txt_two_marks,index=None,sep='\\t',header=None,float_format='%.2f')\n",
    "        pd.DataFrame(filtered_JM).to_csv(csv_two_marks,index=None,header=None,float_format='%.2f')\n",
    "        pd.DataFrame(filtered_JM_onemark).to_csv(txt_one_mark,index=None,sep='\\t',header=None,float_format='%.2f')\n",
    "        pd.DataFrame(filtered_JM_onemark).to_csv(csv_one_mark,index=None,header=None,float_format='%.2f')   \n",
    "    else:\n",
    "        pd.DataFrame().to_csv(txt_two_marks,index=None,sep='\\t',header=None,float_format='%.2f')\n",
    "        pd.DataFrame().to_csv(csv_two_marks,index=None,header=None,float_format='%.2f')\n",
    "        pd.DataFrame().to_csv(txt_one_mark,index=None,sep='\\t',header=None,float_format='%.2f')\n",
    "        pd.DataFrame().to_csv(csv_one_mark,index=None,header=None,float_format='%.2f')   \n",
    "     "
   ]
  },
  {
   "cell_type": "code",
   "execution_count": 8,
   "metadata": {},
   "outputs": [],
   "source": [
    "df = pd.read_excel(tableMP3file)\n",
    "\n",
    "# read channel\n",
    "for index, row in df.iterrows():\n",
    "    mp3file = df[\"Name file\"][index]\n",
    "    JMlabelfile = os.path.exists(folderJMlabel + os.path.splitext(mp3file)[0] + \"_JM.txt\")\n",
    "    \n",
    "    if not(JMlabelfile):\n",
    "        \n",
    "        channel = df[\"Channel 1 is the microphone facing…\"][index]\n",
    "        if (channel==\"inwards\") or (channel==\"-\") :\n",
    "            channel = 0\n",
    "        else:\n",
    "            channel = 1\n",
    "        \n",
    "        # Load an MP3 file\n",
    "        audio = AudioSegment.from_mp3(folderMP3+mp3file)\n",
    "\n",
    "        #convert MP3 to mono WAV\n",
    "        temp_wav = \"temporal.wav\"\n",
    "        audio_monos = audio.split_to_mono()\n",
    "        desired_channel = audio_monos[channel]\n",
    "        desired_channel.export(temp_wav,format=\"wav\")\n",
    "\n",
    "        # compute all JMs events using the CBIA incorporated into the BUFAR algorithms\n",
    "        with open(temp_wav, 'rb') as audio_file:\n",
    "            _, events, _ = bufar_original.run(audio_file)\n",
    "\n",
    "        # delete JM labels outside the grazing and rumination bouts\n",
    "        activitylabelfile = os.path.splitext(mp3file)[0] + \".csv\"\n",
    "        activities_labels = pd.read_csv(folderMP3+activitylabelfile)\n",
    "        grazing_labels = activities_labels[activities_labels[\"Label\"] == \"Grazing\"]\n",
    "        rumination_labels = activities_labels[activities_labels[\"Label\"].isin(['Rumination','Rumination (lying-down)',\n",
    "                                                                                'Rumination (windy)','Rumination (raining)'])]\n",
    "        #for grazing\n",
    "        filtered_rows = []\n",
    "        for row in events:\n",
    "            start, end, label = row\n",
    "            if any((start >= grazing_labels['Start']) & (end <= grazing_labels['Finish'])):\n",
    "                filtered_rows.append(row)\n",
    "        filtered_JM_grazing = np.array(filtered_rows)\n",
    "        if (filtered_JM_grazing.size != 0):\n",
    "            indices_to_replace = np.where(filtered_JM_grazing[:, 2] == 'x')\n",
    "            filtered_JM_grazing[indices_to_replace, 2] = 'cb'\n",
    "        #for rumination\n",
    "        filtered_rows = []\n",
    "        for row in events:\n",
    "            start, end, label = row\n",
    "            if any((start >= rumination_labels['Start']) & (end <= rumination_labels['Finish'])):\n",
    "                filtered_rows.append(row)\n",
    "        filtered_JM_rumination = np.array(filtered_rows)\n",
    "        if (filtered_JM_rumination.size != 0):\n",
    "            filtered_JM_rumination[:, 2] = 'r'\n",
    "        \n",
    "        # merge\n",
    "        if ((filtered_JM_rumination.size != 0) & (filtered_JM_grazing.size != 0)):\n",
    "            filtered_JM = np.vstack((filtered_JM_grazing, filtered_JM_rumination))\n",
    "            filtered_JM = filtered_JM[filtered_JM[:, 0].argsort()]\n",
    "            save_label_files(mp3file,filtered_JM)\n",
    "        elif (filtered_JM_rumination.size != 0 & filtered_JM_grazing.size == 0):\n",
    "            save_label_files(mp3file,filtered_JM_rumination)\n",
    "        elif (filtered_JM_grazing.size != 0 & filtered_JM_grazing.size == 0):\n",
    "            save_label_files(mp3file,filtered_JM_grazing)\n",
    "        else:\n",
    "            save_label_files(mp3file)\n",
    "\n",
    "if (os.path.exists(temp_wav)):\n",
    "    os.remove(temp_wav)"
   ]
  }
 ],
 "metadata": {
  "kernelspec": {
   "display_name": "python3.8.10",
   "language": "python",
   "name": "python3"
  },
  "language_info": {
   "codemirror_mode": {
    "name": "ipython",
    "version": 3
   },
   "file_extension": ".py",
   "mimetype": "text/x-python",
   "name": "python",
   "nbconvert_exporter": "python",
   "pygments_lexer": "ipython3",
   "version": "3.8.10"
  },
  "orig_nbformat": 4
 },
 "nbformat": 4,
 "nbformat_minor": 2
}
